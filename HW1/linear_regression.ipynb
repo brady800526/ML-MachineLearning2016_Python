{
 "cells": [
  {
   "cell_type": "markdown",
   "metadata": {
    "collapsed": true
   },
   "source": [
    "# Preprocess training data"
   ]
  },
  {
   "cell_type": "code",
   "execution_count": 1,
   "metadata": {
    "collapsed": true
   },
   "outputs": [],
   "source": [
    "%matplotlib inline\n",
    "import numpy as np\n",
    "import pandas as pd\n",
    "import matplotlib.pyplot as plt\n",
    "import sys"
   ]
  },
  {
   "cell_type": "code",
   "execution_count": 2,
   "metadata": {},
   "outputs": [],
   "source": [
    "# Clean training data column('日期', '測站', '測項')\n",
    "# Get the feature number\n",
    "RAW_DATA = pd.read_csv('data/train.csv', encoding='big5')\n",
    "FEATURE_NUM = int(RAW_DATA[[\"測項\"]].nunique().as_matrix())\n",
    "\n",
    "RAW_DATA.drop(['日期', '測站', '測項'], axis=1, inplace=True)\n",
    "RAW_DATA = RAW_DATA.as_matrix()\n",
    "\n",
    "# Get the data length\n",
    "DATA_SET_LENGTH = 9\n",
    "\n",
    "# Get the days, end_day_of_month\n",
    "DAYS = RAW_DATA.shape[0]/FEATURE_NUM\n",
    "END_DAY_OF_MONTH = 20"
   ]
  },
  {
   "cell_type": "code",
   "execution_count": 3,
   "metadata": {},
   "outputs": [],
   "source": [
    "# Concatenate training data array and separate to MONTH_DATA, MONTH_PM based on month\n",
    "JAN=FEB=MAR=ARI=MAY=JUN=JUL=AUG=SEP=OCT=NOV=DEC=np.array([]).reshape(18,0)\n",
    "MONTH_DATA = [JAN, FEB, MAR, ARI, MAY, JUN, JUL, AUG, SEP, OCT, NOV, DEC] \n",
    "MONTH_PM = np.array([]).reshape(0,480)\n",
    "\n",
    "for day in range(int(DAYS)):\n",
    "    MONTH_DATA[int(day/END_DAY_OF_MONTH)] = np.concatenate((MONTH_DATA[int(day/END_DAY_OF_MONTH)], RAW_DATA[FEATURE_NUM * day : FEATURE_NUM * (day+1),:]), axis=1)\n",
    "\n",
    "# Replace the Rainfall NR string to 0 and create PM2.5 array\n",
    "# Stack the months_pm arary\n",
    "for month in MONTH_DATA:    \n",
    "    month[month=='NR'] = '0'\n",
    "    MONTH_PM = np.vstack((MONTH_PM,month[9,:]))"
   ]
  },
  {
   "cell_type": "markdown",
   "metadata": {},
   "source": [
    "# Preprocess testing data"
   ]
  },
  {
   "cell_type": "code",
   "execution_count": 4,
   "metadata": {
    "collapsed": true
   },
   "outputs": [],
   "source": [
    "# Delete unneccessary column of test data\n",
    "RAW_TEST = pd.read_csv('data/test_X.csv', encoding='big5', header=None)\n",
    "RAW_TEST.drop([1], axis=1, inplace=True)\n",
    "\n",
    "# Replace the Rainfall string data to 0\n",
    "RAW_TEST[RAW_TEST=='NR'] = '0'\n",
    "\n",
    "# Get the test Dataframe of test data and test data ID\n",
    "test_data_ID = RAW_TEST[[0]].as_matrix()\n",
    "test_data = RAW_TEST.iloc[:, RAW_TEST.columns != 0].as_matrix()"
   ]
  },
  {
   "cell_type": "code",
   "execution_count": 5,
   "metadata": {
    "collapsed": true
   },
   "outputs": [],
   "source": [
    "# Get the ordered ID of the test data\n",
    "_, idx = np.unique(test_data_ID, return_index=True)\n",
    "order_id = test_data_ID[:,0][np.sort(idx)]"
   ]
  },
  {
   "cell_type": "markdown",
   "metadata": {},
   "source": [
    "Save the result and output as submission.csv file\n",
    "========="
   ]
  },
  {
   "cell_type": "code",
   "execution_count": 6,
   "metadata": {
    "collapsed": true
   },
   "outputs": [],
   "source": [
    "# Calculate the Predicted PM2.5\n",
    "def predict_PM_and_save_result(weight_1, bias, filename):\n",
    "    result = []\n",
    "    for number_of_test_data in range(int(test_data.shape[0]/18)):\n",
    "        result.append((weight_1 * test_data[ FEATURE_NUM*number_of_test_data : FEATURE_NUM*(number_of_test_data+1),:].astype(float)).sum() + bias)\n",
    "\n",
    "    pd.DataFrame(data=[order_id, result], index=[\"id\", \"value\"]).T.to_csv(filename + \".csv\", index=False)"
   ]
  },
  {
   "cell_type": "markdown",
   "metadata": {},
   "source": [
    "# Build math model "
   ]
  },
  {
   "cell_type": "code",
   "execution_count": 34,
   "metadata": {},
   "outputs": [],
   "source": [
    "def train_epoch(learning_rate, data=None, EPOCH=1, LAMBDA = None):\n",
    "    weight_1 = np.zeros([18,9])\n",
    "    bias = 0\n",
    "    \n",
    "    for _ in range(EPOCH):\n",
    "        gradient_descent_weight_1 = np.zeros([18,9])\n",
    "        gradient_descent_base = gradient_descent_bias = 0\n",
    "        sum_loss = 0\n",
    "\n",
    "        for number_of_month in range(len(MONTH_DATA)):\n",
    "            \n",
    "            for number_of_data in range(MONTH_DATA[number_of_month].shape[1]):\n",
    "                \n",
    "                try:\n",
    "                    # 2(y - (b + w*x))\n",
    "                    gradient_descent_base = 2 * float(MONTH_PM[number_of_month][number_of_data]) - (bias + (weight_1 * MONTH_DATA[number_of_month][:, number_of_data:DATA_SET_LENGTH+number_of_data].astype(float)).sum())\n",
    "                    gradient_descent_weight_1 -= gradient_descent_base * MONTH_DATA[number_of_month][:, number_of_data:DATA_SET_LENGTH+number_of_data].astype(float)\n",
    "                    gradient_descent_bias += gradient_descent_base\n",
    "                    # (y - (b + w*x))**2\n",
    "                    sum_loss = (float(MONTH_PM[number_of_month][number_of_data]) - (bias + (weight_1 * MONTH_DATA[number_of_month][:, number_of_data:DATA_SET_LENGTH+number_of_data].astype(float)).sum()))**2 + (weight_1**2).sum()\n",
    "                    \n",
    "                except ValueError:\n",
    "                    pass\n",
    "                \n",
    "                except Exception:\n",
    "                    print(\"Unexpected error:\", sys.exc_info()[0])\n",
    "                    raise\n",
    "    \n",
    "        if LAMBDA is not None:\n",
    "            weight_1 -= (learning_rate * gradient_descent_weight_1 + 2 * LAMBDA * weight_1)\n",
    "            bias -= learning_rate * gradient_descent_bias\n",
    "            predict_PM_and_save_result(weight_1=weight_1, bias=bias, filename=\"result_of_lambda_{}\".format(LAMBDA))\n",
    "\n",
    "        if data is not None:\n",
    "            weight_1 -= (learning_rate * gradient_descent_weight_1)\n",
    "            bias -= learning_rate * gradient_descent_bias\n",
    "            predict_PM_and_save_result(weight_1=weight_1, bias=bias, filename=\"result_of_learning_rate_{}\".format(learning_rate))\n",
    "            data.append(sum_loss)"
   ]
  },
  {
   "cell_type": "markdown",
   "metadata": {},
   "source": [
    "# Optimize the learning rate"
   ]
  },
  {
   "cell_type": "code",
   "execution_count": 9,
   "metadata": {},
   "outputs": [],
   "source": [
    "def train_learning_rate(LEARNING_RATE=None, EPOCH=None):\n",
    "\n",
    "    for learning_rate in LEARNING_RATE:\n",
    "        globals()[\"loss_value_of_learning_rate_{}\".format(str(learning_rate).split(\"-\")[-1])] = []\n",
    "        train_epoch(learning_rate=learning_rate, EPOCH=EPOCH, data=globals()[\"loss_value_of_learning_rate_{}\".format(str(learning_rate).split(\"-\")[-1])])"
   ]
  },
  {
   "cell_type": "code",
   "execution_count": 35,
   "metadata": {},
   "outputs": [],
   "source": [
    "train_learning_rate(LEARNING_RATE=[1e-8, 1e-9, 1e-10, 1e-11], EPOCH=10)"
   ]
  },
  {
   "cell_type": "markdown",
   "metadata": {},
   "source": [
    "# Plot the performance of each learning rate"
   ]
  },
  {
   "cell_type": "code",
   "execution_count": 33,
   "metadata": {},
   "outputs": [
    {
     "data": {
      "image/png": "[encoded data removed]",
      "text/plain": [
       "<matplotlib.figure.Figure at 0x1156e6978>"
      ]
     },
     "metadata": {},
     "output_type": "display_data"
    }
   ],
   "source": [
    "x = np.arange(1,11)\n",
    "\n",
    "plt.plot(x, loss_value_of_learning_rate_08, lw=5, label=\"$1e-8$\")\n",
    "plt.plot(x, loss_value_of_learning_rate_09, lw=5, label=\"$1e-9$\")\n",
    "plt.plot(x, loss_value_of_learning_rate_10, lw=5, label=\"$1e-10$\")\n",
    "plt.plot(x, loss_value_of_learning_rate_11, lw=5, label=\"$1e-11$\")\n",
    "\n",
    "plt.ylabel(\"Epoch\")\n",
    "plt.xlabel(\"Loss\")\n",
    "plt.title(\"Learning Rate Comparison\")\n",
    "plt.legend()\n",
    "\n",
    "plt.ylim(0,5e3)\n",
    "\n",
    "plt.savefig(\"learning_rate_Comparison.png\",dpi=300,format=\"png\") \n",
    "plt.show()"
   ]
  },
  {
   "cell_type": "markdown",
   "metadata": {},
   "source": [
    "# Optimize the Lambda "
   ]
  },
  {
   "cell_type": "code",
   "execution_count": 37,
   "metadata": {
    "collapsed": true
   },
   "outputs": [],
   "source": [
    "def train_lambda(LAMBDAS, LEANING_RATE=None, EPOCH=None):\n",
    "\n",
    "    for LAMBDA in LAMBDAS:\n",
    "        train_epoch(learning_rate=LEANING_RATE, EPOCH=EPOCH, LAMBDA=LAMBDA)"
   ]
  },
  {
   "cell_type": "code",
   "execution_count": 40,
   "metadata": {},
   "outputs": [],
   "source": [
    "train_lambda(LAMBDAS=[1, 0.5 , 0.1, 0.01, 0], LEANING_RATE=1e-10, EPOCH=10)"
   ]
  }
 ],
 "metadata": {
  "kernelspec": {
   "display_name": "Python 3",
   "language": "python",
   "name": "python3"
  },
  "language_info": {
   "codemirror_mode": {
    "name": "ipython",
    "version": 3
   },
   "file_extension": ".py",
   "mimetype": "text/x-python",
   "name": "python",
   "nbconvert_exporter": "python",
   "pygments_lexer": "ipython3",
   "version": "3.6.3"
  }
 },
 "nbformat": 4,
 "nbformat_minor": 2
}
